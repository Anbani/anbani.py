{
 "cells": [
  {
   "cell_type": "code",
   "execution_count": 2,
   "metadata": {},
   "outputs": [],
   "source": [
    "import sys\n",
    "sys.path.append('../')"
   ]
  },
  {
   "cell_type": "code",
   "execution_count": 3,
   "metadata": {},
   "outputs": [
    {
     "data": {
      "text/plain": [
       "'გამარჯობა - როგორ ხარ - რასა იქმ - კაია კატა - კაი ერთი'"
      ]
     },
     "execution_count": 3,
     "metadata": {},
     "output_type": "execute_result"
    }
   ],
   "source": [
    "from anbani.nlp.georgianisation import georgianise\n",
    "\n",
    "georgianise(\"gamarjoba - rogor xar - rasa iqm - kaia kata - kai erti\")"
   ]
  },
  {
   "cell_type": "code",
   "execution_count": 4,
   "metadata": {},
   "outputs": [
    {
     "data": {
      "text/plain": [
       "'ᲒᲐᲛᲐᲠᲯᲝᲑᲐ'"
      ]
     },
     "execution_count": 4,
     "metadata": {},
     "output_type": "execute_result"
    }
   ],
   "source": [
    "from anbani.core.converter import convert, interpret\n",
    "\n",
    "interpret(\"ႢႠႫႠႰႿႭႡႠ\", \"mtavruli\")"
   ]
  },
  {
   "cell_type": "code",
   "execution_count": 10,
   "metadata": {},
   "outputs": [
    {
     "name": "stdout",
     "output_type": "stream",
     "text": [
      "ილია ჭავჭავაძე (დ. 8 ნოემბერი, 1837, სოფელი ყვარელი — გ. 12 სექტემბერი, 1907, წიწამური)\n",
      "ილია ჭავჭავაძე (დაბადება 8 ნოემბერი, 1837, სოფელი ყვარელი — გარდაცვალება 12 სექტემბერი, 1907, წიწამური)\n"
     ]
    }
   ],
   "source": [
    "from anbani.nlp.contractions import expand_text\n",
    "\n",
    "text = \"ილია ჭავჭავაძე (დ. 8 ნოემბერი, 1837, სოფელი ყვარელი — გ. 12 სექტემბერი, 1907, წიწამური)\"\n",
    "print(text)\n",
    "print(expand_text(text))"
   ]
  },
  {
   "cell_type": "code",
   "execution_count": 11,
   "metadata": {},
   "outputs": [
    {
     "name": "stdout",
     "output_type": "stream",
     "text": [
      "Error: no such file: '/home/george/Dev/georgian-text-corpus/sources/mylibrary/raw/files/ჩარლზ დიკენსი - დევიდ კოპერფილდი.pdf'\n",
      "\n",
      "latin\n",
      "\n",
      "ჱრრორ: ნო სუცჰ ფილე: '/ჰომე/გეორგე/ჷევ/გეორგიან-ტეხტ-ცორპუს/სოურცეს/მყლიბრარყ/რაწ/ფილეს/ჩარლზ დიკენსი - დევიდ კოპერფილდი.პდფ'\n"
     ]
    }
   ],
   "source": [
    "from anbani.nlp.utils import ebook2text\n",
    "from anbani.core.converter import classify_text\n",
    "from anbani.core.converter import convert\n",
    "\n",
    "text = ebook2text(\"/home/george/Dev/georgian-text-corpus/sources/mylibrary/raw/files/ჩარლზ დიკენსი - დევიდ კოპერფილდი.pdf\")\n",
    "print(text[:300])\n",
    "print()\n",
    "print(classify_text(text))\n",
    "print()\n",
    "print(convert(text, \"qwerty\", \"mkhedruli\")[:300])"
   ]
  },
  {
   "cell_type": "code",
   "execution_count": 12,
   "metadata": {},
   "outputs": [
    {
     "name": "stdout",
     "output_type": "stream",
     "text": [
      "\n",
      "PyMuPDF 1.20.0: Python bindings for the MuPDF 1.20.1 library.\n",
      "Version date: 2022-06-27 00:00:01.\n",
      "Built for Python 3.9 on linux (64-bit).\n",
      "\n"
     ]
    }
   ],
   "source": [
    "import fitz \n",
    "print(fitz.__doc__)"
   ]
  }
 ],
 "metadata": {
  "kernelspec": {
   "display_name": "Python 3.9.12 ('base')",
   "language": "python",
   "name": "python3"
  },
  "language_info": {
   "codemirror_mode": {
    "name": "ipython",
    "version": 3
   },
   "file_extension": ".py",
   "mimetype": "text/x-python",
   "name": "python",
   "nbconvert_exporter": "python",
   "pygments_lexer": "ipython3",
   "version": "3.9.12"
  },
  "orig_nbformat": 4,
  "vscode": {
   "interpreter": {
    "hash": "5ddfca89fb0ff7038606e5fd782b59d233ff8cbd5b2a6aabb29749a82eca2773"
   }
  }
 },
 "nbformat": 4,
 "nbformat_minor": 2
}
