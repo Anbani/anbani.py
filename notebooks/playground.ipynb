{
 "cells": [
  {
   "cell_type": "code",
   "execution_count": 1,
   "metadata": {},
   "outputs": [
    {
     "data": {
      "text/plain": [
       "'ႢႠႫႠႰႿႭႡႠ'"
      ]
     },
     "execution_count": 1,
     "metadata": {},
     "output_type": "execute_result"
    }
   ],
   "source": [
    "from anbani.core.converter import convert, interpret\n",
    "\n",
    "interpret(\"გამარჯობა\", \"asomtavruli\")"
   ]
  },
  {
   "cell_type": "code",
   "execution_count": 2,
   "metadata": {},
   "outputs": [
    {
     "name": "stdout",
     "output_type": "stream",
     "text": [
      "ილია ჭავჭავაძე (დ. 8 ნოემბერი, 1837, სოფელი ყვარელი — გ. 12 სექტემბერი, 1907, წიწამური)\n",
      "ილია ჭავჭავაძე (დაბადება 8 ნოემბერი, 1837, სოფელი ყვარელი — გარდაცვალება 12 სექტემბერი, 1907, წიწამური)\n"
     ]
    }
   ],
   "source": [
    "from anbani.nlp.contractions import expand_text\n",
    "\n",
    "text = \"ილია ჭავჭავაძე (დ. 8 ნოემბერი, 1837, სოფელი ყვარელი — გ. 12 სექტემბერი, 1907, წიწამური)\"\n",
    "print(text)\n",
    "print(expand_text(text))"
   ]
  },
  {
   "cell_type": "code",
   "execution_count": 3,
   "metadata": {},
   "outputs": [
    {
     "name": "stdout",
     "output_type": "stream",
     "text": [
      "Carlz dikensi    daviT koperfildi    Tavi pirveli    dabadeba    me viqnebi gmiri Cemive sakuTari Tavgadasavlisa Tu sxva, amas  mkiTxveli Semdegi furclebidan dainaxavs.  Tu Cemi cxovrebis ambavs sicocxlis dasabamidan daviwyeb, unda  mogaxsenoT, rom davibade paraskevs, swored Ramis Tormet saaTze. am \n",
      "\n",
      "latin\n",
      "\n",
      "ჩარლზ დიკენსი    დავით კოპერფილდი    თავი პირველი    დაბადება    მე ვიქნები გმირი ჩემივე საკუთარი თავგადასავლისა თუ სხვა, ამას  მკითხველი შემდეგი ფურცლებიდან დაინახავს.  თუ ჩემი ცხოვრების ამბავს სიცოცხლის დასაბამიდან დავიწყებ, უნდა  მოგახსენოთ, რომ დავიბადე პარასკევს, სწორედ ღამის თორმეტ საათზე. ამ \n"
     ]
    }
   ],
   "source": [
    "from anbani.nlp.utils import ebook2text\n",
    "from anbani.core.converter import classify_text\n",
    "from anbani.core.converter import convert\n",
    "\n",
    "text = ebook2text(\"/home/george/Dev/georgian-text-corpus/sources/mylibrary/raw/files/ჩარლზ დიკენსი - დევიდ კოპერფილდი.pdf\")\n",
    "print(text[:300])\n",
    "print()\n",
    "print(classify_text(text))\n",
    "print()\n",
    "print(convert(text, \"qwerty\", \"mkhedruli\")[:300])"
   ]
  },
  {
   "cell_type": "code",
   "execution_count": 4,
   "metadata": {},
   "outputs": [
    {
     "name": "stdout",
     "output_type": "stream",
     "text": [
      "\n",
      "PyMuPDF 1.20.0: Python bindings for the MuPDF 1.20.1 library.\n",
      "Version date: 2022-06-27 00:00:01.\n",
      "Built for Python 3.9 on linux (64-bit).\n",
      "\n"
     ]
    }
   ],
   "source": [
    "import fitz \n",
    "print(fitz.__doc__)"
   ]
  },
  {
   "cell_type": "code",
   "execution_count": null,
   "metadata": {},
   "outputs": [],
   "source": []
  }
 ],
 "metadata": {
  "kernelspec": {
   "display_name": "Python 3.9.12 ('base')",
   "language": "python",
   "name": "python3"
  },
  "language_info": {
   "codemirror_mode": {
    "name": "ipython",
    "version": 3
   },
   "file_extension": ".py",
   "mimetype": "text/x-python",
   "name": "python",
   "nbconvert_exporter": "python",
   "pygments_lexer": "ipython3",
   "version": "3.9.12"
  },
  "orig_nbformat": 4,
  "vscode": {
   "interpreter": {
    "hash": "5ddfca89fb0ff7038606e5fd782b59d233ff8cbd5b2a6aabb29749a82eca2773"
   }
  }
 },
 "nbformat": 4,
 "nbformat_minor": 2
}
